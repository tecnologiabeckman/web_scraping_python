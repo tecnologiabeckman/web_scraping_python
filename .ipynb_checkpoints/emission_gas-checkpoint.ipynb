{
 "cells": [
  {
   "cell_type": "code",
   "execution_count": null,
   "metadata": {},
   "outputs": [],
   "source": []
  },
  {
   "cell_type": "code",
   "execution_count": 1,
   "metadata": {},
   "outputs": [
    {
     "name": "stdout",
     "output_type": "stream",
     "text": [
      "        Entity Code  Year  Annual CO₂ emissions (tonnes )\n",
      "0  Afghanistan  AFG  1949                         14656.0\n",
      "1  Afghanistan  AFG  1950                         84272.0\n",
      "2  Afghanistan  AFG  1951                         91600.0\n",
      "3  Afghanistan  AFG  1952                         91600.0\n",
      "4  Afghanistan  AFG  1953                        106256.0\n"
     ]
    }
   ],
   "source": [
    "import pandas as pd\n",
    "\n",
    "train_dataset = pd.read_csv('data/co2_emission.csv')\n",
    "print(train_dataset.head())"
   ]
  },
  {
   "cell_type": "markdown",
   "metadata": {},
   "source": [
    "<h2>FIltro do Dataset Informações do Brasil</h2>"
   ]
  },
  {
   "cell_type": "code",
   "execution_count": 10,
   "metadata": {},
   "outputs": [
    {
     "name": "stdout",
     "output_type": "stream",
     "text": [
      "      Entity Code  Year  Annual CO₂ emissions (tonnes )\n",
      "2980  Brazil  BRA  1901                       2103136.0\n",
      "2981  Brazil  BRA  1902                       2506176.0\n",
      "2982  Brazil  BRA  1903                       2440224.0\n",
      "2983  Brazil  BRA  1904                       2619760.0\n",
      "2984  Brazil  BRA  1905                       2799296.0\n",
      "...      ...  ...   ...                             ...\n",
      "3092  Brazil  BRA  2013                     493593511.3\n",
      "3093  Brazil  BRA  2014                     519526349.7\n",
      "3094  Brazil  BRA  2015                     512081882.0\n",
      "3095  Brazil  BRA  2016                     473741376.0\n",
      "3096  Brazil  BRA  2017                     476066778.3\n",
      "\n",
      "[117 rows x 4 columns]\n"
     ]
    }
   ],
   "source": [
    "# print(train_dataset['Entity'])\n",
    "\n",
    "print(train_dataset[train_dataset.Entity == \"Brazil\"])\n",
    "emission_brazil = train_dataset[train_dataset.Entity == \"Brazil\"]"
   ]
  },
  {
   "cell_type": "code",
   "execution_count": 12,
   "metadata": {},
   "outputs": [
    {
     "name": "stdout",
     "output_type": "stream",
     "text": [
      "2980      2103136.0\n",
      "2981      2506176.0\n",
      "2982      2440224.0\n",
      "2983      2619760.0\n",
      "2984      2799296.0\n",
      "           ...     \n",
      "3092    493593511.3\n",
      "3093    519526349.7\n",
      "3094    512081882.0\n",
      "3095    473741376.0\n",
      "3096    476066778.3\n",
      "Name: Annual CO₂ emissions (tonnes ), Length: 117, dtype: float64\n"
     ]
    }
   ],
   "source": [
    "print(emission_brazil['Annual CO₂ emissions (tonnes )'])"
   ]
  },
  {
   "cell_type": "code",
   "execution_count": 8,
   "metadata": {},
   "outputs": [
    {
     "name": "stdout",
     "output_type": "stream",
     "text": [
      "               Year  Annual CO₂ emissions (tonnes )\n",
      "count  20853.000000                    2.085300e+04\n",
      "mean    1953.339424                    1.930517e+08\n",
      "std       57.903089                    1.345143e+09\n",
      "min     1751.000000                   -6.255223e+08\n",
      "25%     1932.000000                    3.187680e+05\n",
      "50%     1971.000000                    3.828880e+06\n",
      "75%     1995.000000                    3.706898e+07\n",
      "max     2017.000000                    3.615326e+10\n"
     ]
    }
   ],
   "source": [
    "print(train_dataset.describe())"
   ]
  },
  {
   "cell_type": "code",
   "execution_count": null,
   "metadata": {},
   "outputs": [],
   "source": []
  },
  {
   "cell_type": "markdown",
   "metadata": {},
   "source": [
    "<h3>Referência:</h3>"
   ]
  },
  {
   "cell_type": "markdown",
   "metadata": {},
   "source": [
    "<a href=\"http://felipegalvao.com.br/blog/2016/02/18/ciencia-de-dados-com-python-basico-do-pandas-leitura-de-dataframes/\">ciencia-de-dados-com-python-basico-do-pandas-leitura-de-dataframes</a>"
   ]
  },
  {
   "cell_type": "code",
   "execution_count": null,
   "metadata": {},
   "outputs": [],
   "source": []
  }
 ],
 "metadata": {
  "kernelspec": {
   "display_name": "Python 3",
   "language": "python",
   "name": "python3"
  },
  "language_info": {
   "codemirror_mode": {
    "name": "ipython",
    "version": 3
   },
   "file_extension": ".py",
   "mimetype": "text/x-python",
   "name": "python",
   "nbconvert_exporter": "python",
   "pygments_lexer": "ipython3",
   "version": "3.8.3"
  }
 },
 "nbformat": 4,
 "nbformat_minor": 4
}
